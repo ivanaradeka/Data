{
 "cells": [
  {
   "cell_type": "markdown",
   "metadata": {},
   "source": [
    "# CI280 Lab02 – List\n",
    "Upload your answer to GitHub\n",
    "Email the link to: jzhang@eastwest.edu\n",
    "Name: _________________\n"
   ]
  },
  {
   "cell_type": "markdown",
   "metadata": {},
   "source": [
    "# A. Show the output: ( 10 pts)"
   ]
  },
  {
   "cell_type": "code",
   "execution_count": null,
   "metadata": {
    "scrolled": true
   },
   "outputs": [],
   "source": [
    "numbers = [50, 20, 10, 80, 10]\n",
    "print(numbers)\n",
    "print(numbers[2])\n",
    "\n",
    "max_value = max(numbers)\n",
    "max_index = numbers.index(max_value)\n",
    "print('max =', max_value)\n",
    "print(max_index)\n",
    "\n",
    "min_value = min(numbers)\n",
    "min_index = numbers.index(min_value)\n",
    "print('min =', min_value)\n",
    "print(min_index)\n",
    "\n",
    "print('length =', len(numbers))\n",
    "print('Element =', numbers[len(numbers)-1])"
   ]
  },
  {
   "cell_type": "code",
   "execution_count": null,
   "metadata": {},
   "outputs": [],
   "source": [
    "names = ['Steven', 'Will', 'Alicia']\n",
    "print (names)\n",
    "\n",
    "print ('--')\n",
    "for name in names:\n",
    "    print (name)\n",
    "   \n",
    "print ('--')\n",
    "index = 2\n",
    "while index < len(names):\n",
    "    print (names[index])\n",
    "    index += 1"
   ]
  },
  {
   "cell_type": "code",
   "execution_count": null,
   "metadata": {},
   "outputs": [],
   "source": [
    "num1 = list(range(0,20,  5))\n",
    "print(num1)\n",
    "\n",
    "num2 = num1 * 3\n",
    "print(num2)\n",
    "\n",
    "index = 0\n",
    "while index < len(num1):\n",
    "    num1[index] = num1[index]*3\n",
    "    index +=1\n",
    "print(num1)\n",
    "\n",
    "print(sum(num1))\n",
    "print(sum(num1)/len(num1))"
   ]
  },
  {
   "cell_type": "code",
   "execution_count": null,
   "metadata": {},
   "outputs": [],
   "source": [
    "numbers = list (range (0,101,10))\n",
    "print (numbers)\n",
    "\n",
    "print (numbers[:5])\n",
    "print (numbers[2:5])\n",
    "print (numbers[7:])\n",
    "print (numbers[-3:])"
   ]
  },
  {
   "cell_type": "code",
   "execution_count": null,
   "metadata": {},
   "outputs": [],
   "source": [
    "cities = ['Chicago', 'Paris']\n",
    "print (cities)\n",
    "\n",
    "city_index = cities.index('Paris')\n",
    "print (city_index)\n",
    "\n",
    "cities.insert (1, 'New York')\n",
    "print (cities)\n",
    "\n",
    "cities.reverse()\n",
    "print (cities)\n",
    "\n",
    "cities.sort()\n",
    "print (cities)\n",
    "\n",
    "cities.remove ('New York')\n",
    "print (cities)"
   ]
  },
  {
   "cell_type": "code",
   "execution_count": 4,
   "metadata": {},
   "outputs": [
    {
     "name": "stdout",
     "output_type": "stream",
     "text": [
      "Enter the sales for Sunday: 100\n",
      "Enter the sales for Monday: 200\n",
      "Enter the sales for Tuesday: 300\n",
      "Enter the sales for Wednesday: 200\n",
      "Enter the sales for Thursday: 250\n",
      "Enter the sales for Friday: 250\n",
      "Enter the sales for Saturday: 300\n",
      "Weekly Sales\n",
      "----------------------------------\n",
      "Sunday : $ 100.00\n",
      "Monday : $ 200.00\n",
      "Tuesday : $ 300.00\n",
      "Wednesday : $ 200.00\n",
      "Thursday : $ 250.00\n",
      "Friday : $ 250.00\n",
      "Saturday : $ 300.00\n",
      "Weekly Sales Summary\n",
      "----------------------------------\n",
      "Total sales: $ 1600.0\n",
      "Average sales: $ 800.0\n",
      "The highest sales is in Tuesday: $ 300.0\n",
      "The lowest sales is in Sunday $ 100.0\n"
     ]
    }
   ],
   "source": [
    "total_sales = 0.0\n",
    "DAYS = 7\n",
    "\n",
    "daily_sales = [0.0]* DAYS\n",
    "days_of_week = ['Sunday', 'Monday', 'Tuesday',  'Wednesday', \n",
    "                'Thursday', 'Friday','Saturday']\n",
    "for i in range(7):\n",
    "    daily_sales[i] = float(input('Enter the sales for ' + days_of_week[i] + ': '))\n",
    "    \n",
    "\n",
    "print('Weekly Sales')\n",
    "print('----------------------------------')\n",
    "\n",
    "for index in range(7):\n",
    "    print(days_of_week [index],': $', format(daily_sales[index], ',.2f'))\n",
    "\n",
    "\n",
    "for number in daily_sales:\n",
    "    total_sales += number\n",
    "    \n",
    "avg_sales = sum(daily_sales)/len(daily_sales)\n",
    "\n",
    "highest = max(daily_sales)\n",
    "max_index = daily_sales.index(highest)\n",
    "\n",
    "lowest = min(daily_sales)\n",
    "min_index = daily_sales.index(lowest)\n",
    "\n",
    "\n",
    "print('Weekly Sales Summary')\n",
    "print('----------------------------------')\n",
    "print('Total sales: $', total_sales)\n",
    "print('Average sales: $', average_sales)\n",
    "print('The highest sales is in Tuesday: $', highest)\n",
    "print('The lowest sales is in Sunday $', lowest)\n"
   ]
  },
  {
   "cell_type": "code",
   "execution_count": null,
   "metadata": {},
   "outputs": [],
   "source": []
  }
 ],
 "metadata": {
  "kernelspec": {
   "display_name": "Python 3",
   "language": "python",
   "name": "python3"
  },
  "language_info": {
   "codemirror_mode": {
    "name": "ipython",
    "version": 3
   },
   "file_extension": ".py",
   "mimetype": "text/x-python",
   "name": "python",
   "nbconvert_exporter": "python",
   "pygments_lexer": "ipython3",
   "version": "3.7.6"
  }
 },
 "nbformat": 4,
 "nbformat_minor": 4
}
